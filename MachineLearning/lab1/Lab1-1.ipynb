{
 "cells": [
  {
   "cell_type": "code",
   "execution_count": 4,
   "id": "ca9cb446",
   "metadata": {},
   "outputs": [],
   "source": [
    "import numpy as np"
   ]
  },
  {
   "cell_type": "code",
   "execution_count": 5,
   "id": "4d3f01da",
   "metadata": {},
   "outputs": [
    {
     "name": "stdout",
     "output_type": "stream",
     "text": [
      "Array:\n",
      "[[22 33 73 41]\n",
      " [52 72  6 22]\n",
      " [82 80 14 40]\n",
      " [69 42 36 67]\n",
      " [37  1 82 71]]\n",
      "\n"
     ]
    }
   ],
   "source": [
    "arr=np.random.randint(0,100,size=(5,4))\n",
    "print(f\"Array:\\n{arr}\\n\")"
   ]
  },
  {
   "cell_type": "code",
   "execution_count": 12,
   "id": "94aec34b",
   "metadata": {},
   "outputs": [
    {
     "name": "stdout",
     "output_type": "stream",
     "text": [
      "First array after splitting:\n",
      "[[22 33 73 41]\n",
      " [52 72  6 22]\n",
      " [82 80 14 40]]\n",
      "\n",
      "Second array after splitting:\n",
      "[[69 42 36 67]\n",
      " [37  1 82 71]]\n",
      "\n"
     ]
    }
   ],
   "source": [
    "arr1, arr2=np.array_split(arr,2);\n",
    "print(f\"First array after splitting:\\n{arr1}\\n\")\n",
    "print(f\"Second array after splitting:\\n{arr2}\\n\")"
   ]
  },
  {
   "cell_type": "code",
   "execution_count": 16,
   "id": "4ccde800",
   "metadata": {},
   "outputs": [
    {
     "name": "stdout",
     "output_type": "stream",
     "text": [
      "Try to find 6 in first spliited half of array\n",
      "[[False False False False]\n",
      " [False False  True False]\n",
      " [False False False False]]\n",
      "\n",
      "Found elements: 1\n",
      "\n"
     ]
    }
   ],
   "source": [
    "searchEl=(arr1==6);\n",
    "print(f\"Try to find 6 in first spliited half of array\\n{searchEl}\\n\")\n",
    "count=np.sum(searchEl)\n",
    "print(f\"Found elements: {count}\\n\")"
   ]
  },
  {
   "cell_type": "code",
   "execution_count": 18,
   "id": "e76b65b5",
   "metadata": {},
   "outputs": [],
   "source": [
    "import pandas as pd"
   ]
  },
  {
   "cell_type": "code",
   "execution_count": 20,
   "id": "d34fb8c2",
   "metadata": {},
   "outputs": [
    {
     "name": "stdout",
     "output_type": "stream",
     "text": [
      "Series Object\n",
      "0    16\n",
      "1    72\n",
      "2    32\n",
      "3    29\n",
      "4    78\n",
      "5    36\n",
      "6     0\n",
      "7    49\n",
      "8    26\n",
      "9    77\n",
      "dtype: int32\n",
      "\n"
     ]
    }
   ],
   "source": [
    "series=pd.Series(np.random.randint(0,100, size=10));\n",
    "print(f\"Series Object\\n{series}\\n\");"
   ]
  },
  {
   "cell_type": "code",
   "execution_count": 21,
   "id": "983f95a7",
   "metadata": {},
   "outputs": [
    {
     "name": "stdout",
     "output_type": "stream",
     "text": [
      "Elements sum: 415\n",
      "Elements average: 41.5\n"
     ]
    }
   ],
   "source": [
    "print(f\"Elements sum: {series.sum()}\");\n",
    "print(f\"Elements average: {series.mean()}\");"
   ]
  },
  {
   "cell_type": "code",
   "execution_count": 23,
   "id": "b11b4cb7",
   "metadata": {},
   "outputs": [
    {
     "name": "stdout",
     "output_type": "stream",
     "text": [
      "DataFrame:\n",
      "    a   b   c   d\n",
      "0  54  20  71  35\n",
      "1  81  35  36  79\n",
      "2  41  88  69  59\n",
      "3  78  71  64  75\n",
      "\n"
     ]
    }
   ],
   "source": [
    "df=pd.DataFrame(np.random.randint(0,100, size=(4,4)), columns=list(\"abcd\"));\n",
    "print(f\"DataFrame:\\n{df}\\n\")"
   ]
  },
  {
   "cell_type": "code",
   "execution_count": 24,
   "id": "c233ca50",
   "metadata": {},
   "outputs": [
    {
     "name": "stdout",
     "output_type": "stream",
     "text": [
      "DataFrame after row removing:\n",
      "    a   b   c   d\n",
      "1  81  35  36  79\n",
      "2  41  88  69  59\n",
      "3  78  71  64  75\n",
      "\n"
     ]
    }
   ],
   "source": [
    "df=df.drop(0)\n",
    "print(f\"DataFrame after row removing:\\n{df}\\n\")"
   ]
  },
  {
   "cell_type": "code",
   "execution_count": 25,
   "id": "449c677c",
   "metadata": {},
   "outputs": [
    {
     "name": "stdout",
     "output_type": "stream",
     "text": [
      "DataFrame after column removing:\n",
      "    b   c   d\n",
      "1  35  36  79\n",
      "2  88  69  59\n",
      "3  71  64  75\n",
      "\n"
     ]
    }
   ],
   "source": [
    "df=df.drop(columns='a')\n",
    "print(f\"DataFrame after column removing:\\n{df}\\n\")"
   ]
  },
  {
   "cell_type": "code",
   "execution_count": 27,
   "id": "7946c881",
   "metadata": {},
   "outputs": [
    {
     "name": "stdout",
     "output_type": "stream",
     "text": [
      "DataFrame size: (3, 3)\n"
     ]
    }
   ],
   "source": [
    "print(f\"DataFrame size: {df.shape}\");"
   ]
  },
  {
   "cell_type": "code",
   "execution_count": 29,
   "id": "6ef272c2",
   "metadata": {},
   "outputs": [
    {
     "name": "stdout",
     "output_type": "stream",
     "text": [
      "Try to find element 75 in Dataframe:\n",
      "       b      c      d\n",
      "1  False  False  False\n",
      "2  False  False  False\n",
      "3  False  False   True\n",
      "\n"
     ]
    }
   ],
   "source": [
    "searchInDf=(df==75)\n",
    "print(f\"Try to find element 75 in Dataframe:\\n{searchInDf}\\n\");"
   ]
  },
  {
   "cell_type": "code",
   "execution_count": null,
   "id": "5e8c8007",
   "metadata": {},
   "outputs": [],
   "source": []
  },
  {
   "cell_type": "code",
   "execution_count": null,
   "id": "8b1a1039",
   "metadata": {},
   "outputs": [],
   "source": []
  }
 ],
 "metadata": {
  "kernelspec": {
   "display_name": "Python 3 (ipykernel)",
   "language": "python",
   "name": "python3"
  },
  "language_info": {
   "codemirror_mode": {
    "name": "ipython",
    "version": 3
   },
   "file_extension": ".py",
   "mimetype": "text/x-python",
   "name": "python",
   "nbconvert_exporter": "python",
   "pygments_lexer": "ipython3",
   "version": "3.11.5"
  }
 },
 "nbformat": 4,
 "nbformat_minor": 5
}
