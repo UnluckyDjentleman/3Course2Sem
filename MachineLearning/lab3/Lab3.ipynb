{
 "cells": [
  {
   "cell_type": "code",
   "execution_count": 98,
   "id": "4e24c70a",
   "metadata": {},
   "outputs": [],
   "source": [
    "import pandas as pd"
   ]
  },
  {
   "cell_type": "code",
   "execution_count": 99,
   "id": "0797d965",
   "metadata": {},
   "outputs": [],
   "source": [
    "from sklearn.neighbors import KNeighborsClassifier"
   ]
  },
  {
   "cell_type": "code",
   "execution_count": 100,
   "id": "1d3176f2",
   "metadata": {},
   "outputs": [],
   "source": [
    "from sklearn.tree import DecisionTreeClassifier, plot_tree"
   ]
  },
  {
   "cell_type": "code",
   "execution_count": 101,
   "id": "116afce8",
   "metadata": {},
   "outputs": [],
   "source": [
    "from sklearn.model_selection import train_test_split, GridSearchCV"
   ]
  },
  {
   "cell_type": "code",
   "execution_count": 102,
   "id": "be84bdf7",
   "metadata": {},
   "outputs": [],
   "source": [
    "from sklearn.metrics import confusion_matrix, accuracy_score"
   ]
  },
  {
   "cell_type": "code",
   "execution_count": 103,
   "id": "e12dfe90",
   "metadata": {},
   "outputs": [],
   "source": [
    "from sklearn import tree"
   ]
  },
  {
   "cell_type": "code",
   "execution_count": 104,
   "id": "6c32292d",
   "metadata": {},
   "outputs": [],
   "source": [
    "import sklearn"
   ]
  },
  {
   "cell_type": "code",
   "execution_count": 105,
   "id": "451bfd29",
   "metadata": {},
   "outputs": [],
   "source": [
    "from matplotlib import pyplot as plt"
   ]
  },
  {
   "cell_type": "code",
   "execution_count": 106,
   "id": "c087b082",
   "metadata": {},
   "outputs": [],
   "source": [
    "data=pd.read_csv('Raisin_Dataset.csv')"
   ]
  },
  {
   "cell_type": "code",
   "execution_count": 107,
   "id": "934c595f",
   "metadata": {},
   "outputs": [
    {
     "data": {
      "text/html": [
       "<div>\n",
       "<style scoped>\n",
       "    .dataframe tbody tr th:only-of-type {\n",
       "        vertical-align: middle;\n",
       "    }\n",
       "\n",
       "    .dataframe tbody tr th {\n",
       "        vertical-align: top;\n",
       "    }\n",
       "\n",
       "    .dataframe thead th {\n",
       "        text-align: right;\n",
       "    }\n",
       "</style>\n",
       "<table border=\"1\" class=\"dataframe\">\n",
       "  <thead>\n",
       "    <tr style=\"text-align: right;\">\n",
       "      <th></th>\n",
       "      <th>Area</th>\n",
       "      <th>MajorAxisLength</th>\n",
       "      <th>MinorAxisLength</th>\n",
       "      <th>Eccentricity</th>\n",
       "      <th>ConvexArea</th>\n",
       "      <th>Extent</th>\n",
       "      <th>Perimeter</th>\n",
       "      <th>Class</th>\n",
       "    </tr>\n",
       "  </thead>\n",
       "  <tbody>\n",
       "    <tr>\n",
       "      <th>0</th>\n",
       "      <td>87524</td>\n",
       "      <td>442.246011</td>\n",
       "      <td>253.291155</td>\n",
       "      <td>0.819738</td>\n",
       "      <td>90546</td>\n",
       "      <td>0.758651</td>\n",
       "      <td>1184.040</td>\n",
       "      <td>Kecimen</td>\n",
       "    </tr>\n",
       "    <tr>\n",
       "      <th>1</th>\n",
       "      <td>75166</td>\n",
       "      <td>406.690687</td>\n",
       "      <td>243.032436</td>\n",
       "      <td>0.801805</td>\n",
       "      <td>78789</td>\n",
       "      <td>0.684130</td>\n",
       "      <td>1121.786</td>\n",
       "      <td>Kecimen</td>\n",
       "    </tr>\n",
       "    <tr>\n",
       "      <th>2</th>\n",
       "      <td>90856</td>\n",
       "      <td>442.267048</td>\n",
       "      <td>266.328318</td>\n",
       "      <td>0.798354</td>\n",
       "      <td>93717</td>\n",
       "      <td>0.637613</td>\n",
       "      <td>1208.575</td>\n",
       "      <td>Kecimen</td>\n",
       "    </tr>\n",
       "    <tr>\n",
       "      <th>3</th>\n",
       "      <td>45928</td>\n",
       "      <td>286.540559</td>\n",
       "      <td>208.760042</td>\n",
       "      <td>0.684989</td>\n",
       "      <td>47336</td>\n",
       "      <td>0.699599</td>\n",
       "      <td>844.162</td>\n",
       "      <td>Kecimen</td>\n",
       "    </tr>\n",
       "    <tr>\n",
       "      <th>4</th>\n",
       "      <td>79408</td>\n",
       "      <td>352.190770</td>\n",
       "      <td>290.827533</td>\n",
       "      <td>0.564011</td>\n",
       "      <td>81463</td>\n",
       "      <td>0.792772</td>\n",
       "      <td>1073.251</td>\n",
       "      <td>Kecimen</td>\n",
       "    </tr>\n",
       "  </tbody>\n",
       "</table>\n",
       "</div>"
      ],
      "text/plain": [
       "    Area  MajorAxisLength  MinorAxisLength  Eccentricity  ConvexArea  \\\n",
       "0  87524       442.246011       253.291155      0.819738       90546   \n",
       "1  75166       406.690687       243.032436      0.801805       78789   \n",
       "2  90856       442.267048       266.328318      0.798354       93717   \n",
       "3  45928       286.540559       208.760042      0.684989       47336   \n",
       "4  79408       352.190770       290.827533      0.564011       81463   \n",
       "\n",
       "     Extent  Perimeter    Class  \n",
       "0  0.758651   1184.040  Kecimen  \n",
       "1  0.684130   1121.786  Kecimen  \n",
       "2  0.637613   1208.575  Kecimen  \n",
       "3  0.699599    844.162  Kecimen  \n",
       "4  0.792772   1073.251  Kecimen  "
      ]
     },
     "execution_count": 107,
     "metadata": {},
     "output_type": "execute_result"
    }
   ],
   "source": [
    "data.head()"
   ]
  },
  {
   "cell_type": "code",
   "execution_count": 108,
   "id": "2f026db7",
   "metadata": {},
   "outputs": [],
   "source": [
    "data.Class=pd.Categorical(data.Class)"
   ]
  },
  {
   "cell_type": "code",
   "execution_count": 109,
   "id": "366cef08",
   "metadata": {},
   "outputs": [],
   "source": [
    "data[\"Class\"]=data.Class.cat.codes"
   ]
  },
  {
   "cell_type": "code",
   "execution_count": 110,
   "id": "550eefdb",
   "metadata": {},
   "outputs": [
    {
     "name": "stdout",
     "output_type": "stream",
     "text": [
      "      Area  MajorAxisLength  MinorAxisLength  Eccentricity  ConvexArea  \\\n",
      "0    87524       442.246011       253.291155      0.819738       90546   \n",
      "1    75166       406.690687       243.032436      0.801805       78789   \n",
      "2    90856       442.267048       266.328318      0.798354       93717   \n",
      "3    45928       286.540559       208.760042      0.684989       47336   \n",
      "4    79408       352.190770       290.827533      0.564011       81463   \n",
      "..     ...              ...              ...           ...         ...   \n",
      "895  83248       430.077308       247.838695      0.817263       85839   \n",
      "896  87350       440.735698       259.293149      0.808629       90899   \n",
      "897  99657       431.706981       298.837323      0.721684      106264   \n",
      "898  93523       476.344094       254.176054      0.845739       97653   \n",
      "899  85609       512.081774       215.271976      0.907345       89197   \n",
      "\n",
      "       Extent  Perimeter  Class  \n",
      "0    0.758651   1184.040      1  \n",
      "1    0.684130   1121.786      1  \n",
      "2    0.637613   1208.575      1  \n",
      "3    0.699599    844.162      1  \n",
      "4    0.792772   1073.251      1  \n",
      "..        ...        ...    ...  \n",
      "895  0.668793   1129.072      0  \n",
      "896  0.636476   1214.252      0  \n",
      "897  0.741099   1292.828      0  \n",
      "898  0.658798   1258.548      0  \n",
      "899  0.632020   1272.862      0  \n",
      "\n",
      "[900 rows x 8 columns]\n"
     ]
    }
   ],
   "source": [
    "print(data)"
   ]
  },
  {
   "cell_type": "code",
   "execution_count": 111,
   "id": "d2145f23",
   "metadata": {},
   "outputs": [
    {
     "data": {
      "text/plain": [
       "Area                 int64\n",
       "MajorAxisLength    float64\n",
       "MinorAxisLength    float64\n",
       "Eccentricity       float64\n",
       "ConvexArea           int64\n",
       "Extent             float64\n",
       "Perimeter          float64\n",
       "Class                 int8\n",
       "dtype: object"
      ]
     },
     "execution_count": 111,
     "metadata": {},
     "output_type": "execute_result"
    }
   ],
   "source": [
    "data.dtypes"
   ]
  },
  {
   "cell_type": "code",
   "execution_count": 112,
   "id": "3862cf59",
   "metadata": {},
   "outputs": [],
   "source": [
    "X=data.drop(columns='Class')\n",
    "Y=data.Class\n",
    "X_train, X_valid, Y_train, Y_valid=train_test_split(X, Y, test_size=0.3, random_state=35)"
   ]
  },
  {
   "cell_type": "code",
   "execution_count": 113,
   "id": "87275079",
   "metadata": {},
   "outputs": [
    {
     "name": "stdout",
     "output_type": "stream",
     "text": [
      "(630, 7) (270, 7)\n",
      "(630,) (270,)\n"
     ]
    }
   ],
   "source": [
    "print(X_train.shape, X_valid.shape)\n",
    "print(Y_train.shape, Y_valid.shape)"
   ]
  },
  {
   "cell_type": "code",
   "execution_count": 114,
   "id": "9009e80a",
   "metadata": {},
   "outputs": [],
   "source": [
    "des_tree=DecisionTreeClassifier()"
   ]
  },
  {
   "cell_type": "code",
   "execution_count": 115,
   "id": "b2c0c528",
   "metadata": {},
   "outputs": [],
   "source": [
    "des_tree=des_tree.fit(X_train, Y_train)"
   ]
  },
  {
   "cell_type": "code",
   "execution_count": 116,
   "id": "0e64fca5",
   "metadata": {},
   "outputs": [],
   "source": [
    "knn=KNeighborsClassifier()"
   ]
  },
  {
   "cell_type": "code",
   "execution_count": 117,
   "id": "b665df16",
   "metadata": {},
   "outputs": [
    {
     "data": {
      "text/html": [
       "<style>#sk-container-id-6 {color: black;}#sk-container-id-6 pre{padding: 0;}#sk-container-id-6 div.sk-toggleable {background-color: white;}#sk-container-id-6 label.sk-toggleable__label {cursor: pointer;display: block;width: 100%;margin-bottom: 0;padding: 0.3em;box-sizing: border-box;text-align: center;}#sk-container-id-6 label.sk-toggleable__label-arrow:before {content: \"▸\";float: left;margin-right: 0.25em;color: #696969;}#sk-container-id-6 label.sk-toggleable__label-arrow:hover:before {color: black;}#sk-container-id-6 div.sk-estimator:hover label.sk-toggleable__label-arrow:before {color: black;}#sk-container-id-6 div.sk-toggleable__content {max-height: 0;max-width: 0;overflow: hidden;text-align: left;background-color: #f0f8ff;}#sk-container-id-6 div.sk-toggleable__content pre {margin: 0.2em;color: black;border-radius: 0.25em;background-color: #f0f8ff;}#sk-container-id-6 input.sk-toggleable__control:checked~div.sk-toggleable__content {max-height: 200px;max-width: 100%;overflow: auto;}#sk-container-id-6 input.sk-toggleable__control:checked~label.sk-toggleable__label-arrow:before {content: \"▾\";}#sk-container-id-6 div.sk-estimator input.sk-toggleable__control:checked~label.sk-toggleable__label {background-color: #d4ebff;}#sk-container-id-6 div.sk-label input.sk-toggleable__control:checked~label.sk-toggleable__label {background-color: #d4ebff;}#sk-container-id-6 input.sk-hidden--visually {border: 0;clip: rect(1px 1px 1px 1px);clip: rect(1px, 1px, 1px, 1px);height: 1px;margin: -1px;overflow: hidden;padding: 0;position: absolute;width: 1px;}#sk-container-id-6 div.sk-estimator {font-family: monospace;background-color: #f0f8ff;border: 1px dotted black;border-radius: 0.25em;box-sizing: border-box;margin-bottom: 0.5em;}#sk-container-id-6 div.sk-estimator:hover {background-color: #d4ebff;}#sk-container-id-6 div.sk-parallel-item::after {content: \"\";width: 100%;border-bottom: 1px solid gray;flex-grow: 1;}#sk-container-id-6 div.sk-label:hover label.sk-toggleable__label {background-color: #d4ebff;}#sk-container-id-6 div.sk-serial::before {content: \"\";position: absolute;border-left: 1px solid gray;box-sizing: border-box;top: 0;bottom: 0;left: 50%;z-index: 0;}#sk-container-id-6 div.sk-serial {display: flex;flex-direction: column;align-items: center;background-color: white;padding-right: 0.2em;padding-left: 0.2em;position: relative;}#sk-container-id-6 div.sk-item {position: relative;z-index: 1;}#sk-container-id-6 div.sk-parallel {display: flex;align-items: stretch;justify-content: center;background-color: white;position: relative;}#sk-container-id-6 div.sk-item::before, #sk-container-id-6 div.sk-parallel-item::before {content: \"\";position: absolute;border-left: 1px solid gray;box-sizing: border-box;top: 0;bottom: 0;left: 50%;z-index: -1;}#sk-container-id-6 div.sk-parallel-item {display: flex;flex-direction: column;z-index: 1;position: relative;background-color: white;}#sk-container-id-6 div.sk-parallel-item:first-child::after {align-self: flex-end;width: 50%;}#sk-container-id-6 div.sk-parallel-item:last-child::after {align-self: flex-start;width: 50%;}#sk-container-id-6 div.sk-parallel-item:only-child::after {width: 0;}#sk-container-id-6 div.sk-dashed-wrapped {border: 1px dashed gray;margin: 0 0.4em 0.5em 0.4em;box-sizing: border-box;padding-bottom: 0.4em;background-color: white;}#sk-container-id-6 div.sk-label label {font-family: monospace;font-weight: bold;display: inline-block;line-height: 1.2em;}#sk-container-id-6 div.sk-label-container {text-align: center;}#sk-container-id-6 div.sk-container {/* jupyter's `normalize.less` sets `[hidden] { display: none; }` but bootstrap.min.css set `[hidden] { display: none !important; }` so we also need the `!important` here to be able to override the default hidden behavior on the sphinx rendered scikit-learn.org. See: https://github.com/scikit-learn/scikit-learn/issues/21755 */display: inline-block !important;position: relative;}#sk-container-id-6 div.sk-text-repr-fallback {display: none;}</style><div id=\"sk-container-id-6\" class=\"sk-top-container\"><div class=\"sk-text-repr-fallback\"><pre>KNeighborsClassifier()</pre><b>In a Jupyter environment, please rerun this cell to show the HTML representation or trust the notebook. <br />On GitHub, the HTML representation is unable to render, please try loading this page with nbviewer.org.</b></div><div class=\"sk-container\" hidden><div class=\"sk-item\"><div class=\"sk-estimator sk-toggleable\"><input class=\"sk-toggleable__control sk-hidden--visually\" id=\"sk-estimator-id-6\" type=\"checkbox\" checked><label for=\"sk-estimator-id-6\" class=\"sk-toggleable__label sk-toggleable__label-arrow\">KNeighborsClassifier</label><div class=\"sk-toggleable__content\"><pre>KNeighborsClassifier()</pre></div></div></div></div></div>"
      ],
      "text/plain": [
       "KNeighborsClassifier()"
      ]
     },
     "execution_count": 117,
     "metadata": {},
     "output_type": "execute_result"
    }
   ],
   "source": [
    "knn.fit(X_train, Y_train)"
   ]
  },
  {
   "cell_type": "code",
   "execution_count": 118,
   "id": "8ec519ce",
   "metadata": {},
   "outputs": [],
   "source": [
    "pred_tree=des_tree.predict(X_valid)\n",
    "pred_knn=knn.predict(X_valid)"
   ]
  },
  {
   "cell_type": "code",
   "execution_count": 119,
   "id": "2ab3376b",
   "metadata": {},
   "outputs": [
    {
     "name": "stdout",
     "output_type": "stream",
     "text": [
      "Decision Tree Model Accuracy: 0.8074074074074075\n",
      "K Nearest Neighbors Model Accuracy: 0.8\n"
     ]
    }
   ],
   "source": [
    "accuracy_tree=accuracy_score(Y_valid,pred_tree)\n",
    "accuracy_knn=accuracy_score(Y_valid, pred_knn)\n",
    "print(\"Decision Tree Model Accuracy:\", accuracy_tree)\n",
    "print(\"K Nearest Neighbors Model Accuracy:\", accuracy_knn)"
   ]
  },
  {
   "cell_type": "code",
   "execution_count": 120,
   "id": "985c65dd",
   "metadata": {},
   "outputs": [
    {
     "name": "stdout",
     "output_type": "stream",
     "text": [
      "Tree decision best parameters: {'max_depth': 2}\n",
      "Best tree decision model accuracy: 0.8407407407407408\n",
      "KNN best parameters: {'n_neighbors': 5}\n",
      "Best KNN model accuracy: 0.8\n"
     ]
    }
   ],
   "source": [
    "#tree model\n",
    "param_grid_tree={'max_depth': range(1,11)}\n",
    "grid_tree = GridSearchCV(des_tree, param_grid_tree, cv=5)\n",
    "grid_tree.fit(X_train, Y_train)\n",
    "best_tree = grid_tree.best_estimator_\n",
    "accuracy_best_tree = accuracy_score(Y_valid, best_tree.predict(X_valid))\n",
    "print(\"Tree decision best parameters:\", grid_tree.best_params_)\n",
    "print(\"Best tree decision model accuracy:\", accuracy_best_tree)\n",
    "\n",
    "#knn\n",
    "param_knn={'n_neighbors': range(1,11)}\n",
    "grid_knn = GridSearchCV(knn, param_knn, cv=5)\n",
    "grid_knn.fit(X_train, Y_train)\n",
    "best_knn = grid_knn.best_estimator_\n",
    "accuracy_best_knn = accuracy_score(Y_valid, best_knn.predict(X_valid))\n",
    "print(\"KNN best parameters:\", grid_knn.best_params_)\n",
    "print(\"Best KNN model accuracy:\", accuracy_best_knn)"
   ]
  },
  {
   "cell_type": "code",
   "execution_count": 121,
   "id": "09f96801",
   "metadata": {},
   "outputs": [
    {
     "name": "stdout",
     "output_type": "stream",
     "text": [
      "Decision tree confusion matrix: \n",
      "[[111  23]\n",
      " [ 29 107]]\n",
      "\n",
      "KNearest Neighbors confusion matrix: \n",
      "[[104  30]\n",
      " [ 24 112]]\n"
     ]
    }
   ],
   "source": [
    "cm_tree=confusion_matrix(Y_valid, pred_tree)\n",
    "cm_knn=confusion_matrix(Y_valid, pred_knn)\n",
    "\n",
    "print('Decision tree confusion matrix: ');\n",
    "print(cm_tree)\n",
    "print('\\nKNearest Neighbors confusion matrix: ');\n",
    "print(cm_knn)"
   ]
  },
  {
   "cell_type": "code",
   "execution_count": 122,
   "id": "d4245095",
   "metadata": {},
   "outputs": [
    {
     "data": {
      "text/plain": [
       "[Text(0.5, 0.8333333333333334, 'x[6] <= 1122.496\\ngini = 0.5\\nsamples = 630\\nvalue = [316, 314]'),\n",
       " Text(0.25, 0.5, 'x[3] <= 0.87\\ngini = 0.228\\nsamples = 320\\nvalue = [42, 278]'),\n",
       " Text(0.125, 0.16666666666666666, 'gini = 0.2\\nsamples = 311\\nvalue = [35, 276]'),\n",
       " Text(0.375, 0.16666666666666666, 'gini = 0.346\\nsamples = 9\\nvalue = [7, 2]'),\n",
       " Text(0.75, 0.5, 'x[1] <= 456.177\\ngini = 0.205\\nsamples = 310\\nvalue = [274, 36]'),\n",
       " Text(0.625, 0.16666666666666666, 'gini = 0.459\\nsamples = 87\\nvalue = [56, 31]'),\n",
       " Text(0.875, 0.16666666666666666, 'gini = 0.044\\nsamples = 223\\nvalue = [218, 5]')]"
      ]
     },
     "execution_count": 122,
     "metadata": {},
     "output_type": "execute_result"
    },
    {
     "data": {
      "image/png": "[encoded data removed]",
      "text/plain": [
       "<Figure size 640x480 with 1 Axes>"
      ]
     },
     "metadata": {},
     "output_type": "display_data"
    }
   ],
   "source": [
    "tree_model=DecisionTreeClassifier(max_depth=2);\n",
    "tree_model.fit(X_train,Y_train);\n",
    "plot_tree(tree_model)"
   ]
  }
 ],
 "metadata": {
  "kernelspec": {
   "display_name": "Python 3 (ipykernel)",
   "language": "python",
   "name": "python3"
  },
  "language_info": {
   "codemirror_mode": {
    "name": "ipython",
    "version": 3
   },
   "file_extension": ".py",
   "mimetype": "text/x-python",
   "name": "python",
   "nbconvert_exporter": "python",
   "pygments_lexer": "ipython3",
   "version": "3.11.5"
  }
 },
 "nbformat": 4,
 "nbformat_minor": 5
}
